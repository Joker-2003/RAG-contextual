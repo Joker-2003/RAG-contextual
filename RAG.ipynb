{
 "cells": [
  {
   "cell_type": "code",
   "execution_count": null,
   "id": "3a7ce2a7",
   "metadata": {
    "vscode": {
     "languageId": "plaintext"
    }
   },
   "outputs": [],
   "source": [
    "# Load the OPENAI KEY from the env.sh file\n",
    "\n",
    "from dotenv import load_dotenv\n",
    "\n",
    "load_dotenv('env.sh')  # Specify path to your env file"
   ]
  },
  {
   "cell_type": "code",
   "execution_count": null,
   "id": "a59a411a-8528-4fd2-9864-3b6552d61df6",
   "metadata": {},
   "outputs": [],
   "source": [
    "# Import chatbot functions\n",
    "\n",
    "from utils import store_docs, get_response, get_chroma_client"
   ]
  },
  {
   "cell_type": "code",
   "execution_count": 1,
   "id": "12925a5d-d178-4e11-9352-d35651257c35",
   "metadata": {},
   "outputs": [
    {
     "ename": "NameError",
     "evalue": "name 'store_docs' is not defined",
     "output_type": "error",
     "traceback": [
      "\u001b[0;31m---------------------------------------------------------------------------\u001b[0m",
      "\u001b[0;31mNameError\u001b[0m                                 Traceback (most recent call last)",
      "Cell \u001b[0;32mIn[1], line 4\u001b[0m\n\u001b[1;32m      1\u001b[0m \u001b[38;5;66;03m# Storing webpage content into vector store\u001b[39;00m\n\u001b[1;32m      2\u001b[0m \u001b[38;5;66;03m# Make sure not to store the same documents twice\u001b[39;00m\n\u001b[0;32m----> 4\u001b[0m \u001b[43mstore_docs\u001b[49m(\u001b[38;5;124m\"\u001b[39m\u001b[38;5;124mhttps://cloudxlab.com/course/204/certificate-course-on-generative-ai\u001b[39m\u001b[38;5;124m\"\u001b[39m)\n",
      "\u001b[0;31mNameError\u001b[0m: name 'store_docs' is not defined"
     ]
    }
   ],
   "source": [
    "\n",
    "# Storing webpage content into vector store\n",
    "# Make sure not to store the same documents twice\n",
    "\n",
    "store_docs(\"https://cloudxlab.com/course/204/certificate-course-on-generative-ai\")"
   ]
  },
  {
   "cell_type": "code",
   "execution_count": null,
   "id": "ccc57d4a-bb7f-4afb-a558-8385ed0232c0",
   "metadata": {},
   "outputs": [],
   "source": [
    "# Seeing how the data looks like in the vector store\n",
    "\n",
    "vector_store = get_chroma_client()\n",
    "lis = vector_store.get(include=['embeddings','metadatas','documents'])\n",
    "print(\"Number of documents:\",len(lis['documents']))\n",
    "print(\"Content:\\n\",lis['documents'][1])\n",
    "print(\"\\n\\nMetadata:\", lis['metadatas'][1])\n",
    "print(\"\\n\\nEmbeddings:\", \"Length:\", len(lis['embeddings'][1]),\"\\nEmbedding Vector:\",lis['embeddings'][1])"
   ]
  },
  {
   "cell_type": "code",
   "execution_count": null,
   "id": "1c2d55f3-bccd-41ce-a726-9ca1713545c5",
   "metadata": {},
   "outputs": [],
   "source": [
    "# Setting up organization information\n",
    "\n",
    "organization_name = \"CloudxLab\"\n",
    "organization_info = \"Cloudxlab is known for providing courses on several technologies such as Machine Learning, Big Data, Deep Learning, Artificial Intelligence, DevOps, MLOps, etc. It's main perk is the gamified cloud lab where users can practice all the tools related to the mentioned technologies which are pre-installed in parallel to learning.\"\n",
    "contact_info = \"\"\"Email: reachus@cloudxlab.com \n",
    "India Phone: +9108049202224\n",
    "International Phone: +1 (412) 568-3901.\n",
    "Raise a query: https://cloudxlab.com/reach-us-queries\n",
    "Forum: https://discuss.cloudxlab.com/\"\"\""
   ]
  },
  {
   "cell_type": "code",
   "execution_count": null,
   "id": "7dbf94c8-4c8e-4dd8-96a8-0774971d52f7",
   "metadata": {},
   "outputs": [],
   "source": [
    "# Get response\n",
    "\n",
    "response = get_response(\"What is the duration of this course\", organization_name, organization_info, contact_info)\n",
    "print(\"Answer:\", response)"
   ]
  },
  {
   "cell_type": "code",
   "execution_count": null,
   "id": "58362ab8-22bf-466f-838a-0da200b89316",
   "metadata": {},
   "outputs": [],
   "source": [
    "# Get response\n",
    "\n",
    "response = get_response(\"Who are the instructors?\", organization_name, organization_info, contact_info)\n",
    "print(\"Answer:\", response)"
   ]
  },
  {
   "cell_type": "code",
   "execution_count": null,
   "id": "629bfe2c-d9d3-4791-91a9-848206daf652",
   "metadata": {},
   "outputs": [],
   "source": []
  }
 ],
 "metadata": {
  "kernelspec": {
   "display_name": "Python 3 (ipykernel)",
   "language": "python",
   "name": "python3"
  },
  "language_info": {
   "codemirror_mode": {
    "name": "ipython",
    "version": 3
   },
   "file_extension": ".py",
   "mimetype": "text/x-python",
   "name": "python",
   "nbconvert_exporter": "python",
   "pygments_lexer": "ipython3",
   "version": "3.9.19"
  }
 },
 "nbformat": 4,
 "nbformat_minor": 5
}
